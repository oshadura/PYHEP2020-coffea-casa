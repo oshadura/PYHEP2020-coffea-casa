{
 "cells": [
  {
   "cell_type": "markdown",
   "metadata": {
    "slideshow": {
     "slide_type": "slide"
    }
   },
   "source": [
    "# A Prototype U.S. CMS analysis facility\n",
    "\n",
    "by \n",
    "\n",
    "Mat Adamec, Ken Bloom, **Oksana Shadura**, \n",
    "*University of Nebraska, Lincoln*\n",
    "\n",
    "Garhan Attebury, Carl Lundstedt, Derek Wietzel,\n",
    "*University of Nebraska Holland Computing Center*\n",
    "\n",
    "Mátyás Selmeci,\n",
    "*University of Wisconsin, Madison*\n",
    "\n",
    "Brian Bockelman,\n",
    "*Morgridge Institute*\n",
    "\n"
   ]
  },
  {
   "cell_type": "markdown",
   "metadata": {
    "slideshow": {
     "slide_type": "slide"
    }
   },
   "source": [
    "## Coffea - Columnar Object Framework For Effective Analysis\n",
    "\n",
    "[Coffea Team](https://github.com/CoffeaTeam) && [Coffea Framework](https://github.com/CoffeaTeam/coffea)\n",
    "\n",
    "* Leveraging large data and data analysis tools from Python to provide an array-based syntax for manipulating HEP event data\n",
    "* Stark contrast to well established event loop techniques\n",
    "* \"+\" Tremendous potential to fundamentally change the time-to-science in HEP\n",
    "* \"+\" **Scales well horizontally with available muliple executors for efficient and flexible computations**\n",
    "* \"-\" Cannot easily utilize current analysis facilities (T2s) as the analysis is not grid friendly, it's meant to be quasi-interactive\n",
    "\n",
    "\n",
    "<img src=\"https://coffeateam.github.io/coffea/_images/columnar.png\" width=\"400\" height=\"400\">\n"
   ]
  },
  {
   "cell_type": "markdown",
   "metadata": {
    "slideshow": {
     "slide_type": "slide"
    }
   },
   "source": [
    "## Facility design: Coffea Local Executors\n",
    "\n",
    "Two local executors: *iterative_executor* and *futures_executor*:\n",
    "\n",
    "* The *iterative* executor simply processes each chunk of an input dataset in turn, using the current python thread.\n",
    "\n",
    "* The *futures* executor employs python multiprocessing to spawn multiple python processes that process chunks in parallel on the machine. **Processes are used rather than threads to avoid performance limitations due to the CPython global interpreter lock (GIL))**"
   ]
  },
  {
   "cell_type": "markdown",
   "metadata": {
    "slideshow": {
     "slide_type": "slide"
    }
   },
   "source": [
    "## Facility design: Coffea Distributed Executors\n",
    "\n",
    "\n",
    "Four types of distributed executors:\n",
    "\n",
    " * the **Parsl** distributed executor, accessed via *parsl_executor*, \n",
    "\n",
    " * the **Dask** distributed executor, accessed via *dask_executor*,\n",
    "\n",
    " * the **Apache Spark** distributed executor, accessed via *run_spark_job*,\n",
    "\n",
    " * and the **Work Queue** distributed executor, accessed via *work_queue_executor*."
   ]
  },
  {
   "cell_type": "markdown",
   "metadata": {
    "slideshow": {
     "slide_type": "slide"
    }
   },
   "source": [
    "## Dask: scalable analytics in Python\n",
    "\n",
    "* Dask provides flexible library for parallel computing in Python\n",
    "* Think of Dask as run-time parallel + cluster plugin for Python\n",
    "* Easily installed via Conda as the module “distributed”\n",
    "* NOT really designed with multi-user environments in mind  out-of-the-box\n",
    "* Integrates with HPC clusters running a variety of scheduler including SLURM & HTCondor via “dask-jobqueue”\n",
    "\n",
    "<img src=\"https://docs.dask.org/en/latest/_images/dask-overview.svg\" width=\"600\" height=\"600\">\n"
   ]
  },
  {
   "cell_type": "markdown",
   "metadata": {
    "slideshow": {
     "slide_type": "slide"
    }
   },
   "source": [
    "## Why Dask?\n",
    "\n",
    "* <span style=\"color:green\"> Dask Scales out to Clusters </span>: Dask figures out how to break up large computations and route parts of them efficiently onto distributed hardware.\n",
    "\n",
    "* <span style=\"color:blue\"> Dask Scales Down to Single Computers </span>: Dask can enable efficient parallel computations on single machines by leveraging their multi-core CPUs and streaming data efficiently from disk.\n",
    "\n",
    "* <span style=\"color:orange\"> Dask Integrates Natively with Python Code </span>: Python includes computational libraries like Numpy, Pandas, and Scikit-Learn, and many others for data access, plotting, statistics, image and signal processing, and more. These libraries work together seamlessly to produce a cohesive ecosystem of packages that co-evolve to meet the needs of analysts in most domains today.\n",
    "\n",
    "* <span style=\"color:red\"> Dask Supports Complex Applications </span>: Dask helps exposing low-level APIs to its internal task scheduler which is capable of executing very advanced computations. (e.g. the ability to build their own parallel computing system using the same engine that powers Dask’s arrays, DataFrames, and machine learning algorithms, but now with the institution’s own custom logic) **[similiar to our use case]**\n",
    "\n",
    "* <span style=\"color:purple\"> Dask Delivers Responsive Feedback </span>: monitoring via real-time and responsive dashboard, installed profiler, embedded IPython kernel\n"
   ]
  },
  {
   "cell_type": "markdown",
   "metadata": {
    "slideshow": {
     "slide_type": "slide"
    }
   },
   "source": [
    "## Requirements for Analysis Facility @ T2\n",
    "\n",
    "* Easy to use for users\n",
    "* Scalable (dynamically/automatically)\n",
    "* Responsive/Interactive\n",
    "* **Utilize currently deployed hardware/middleware**\n",
    "* **Minimally intrusive for site administrators**\n",
    "* In addition it is important to get work (‘effort’ & CPU) accounted for by CMS\n",
    "\n",
    "\n"
   ]
  },
  {
   "cell_type": "markdown",
   "metadata": {
    "slideshow": {
     "slide_type": "slide"
    }
   },
   "source": [
    "## Why Kubernetes (k8s)?\n",
    "\n",
    "Stack Overflow blog: \"*Kubernetes is about six years old, and over the last two years, it has risen in popularity to consistently be one of the most loved platforms. This year, it comes in as the number three most loved platform.*\"\n",
    "\n",
    "**Kubernetes is a platform that allows to run and orchestrate container workloads.**\n",
    "\n",
    "![k8s](https://d33wubrfki0l68.cloudfront.net/69e55f968a6f44613384615c6a78b881bfe28bd6/42cd3/_common-resources/images/flower.svg)"
   ]
  },
  {
   "cell_type": "markdown",
   "metadata": {
    "slideshow": {
     "slide_type": "slide"
    }
   },
   "source": [
    "## Why Kubernetes (k8s)?\n",
    "\n",
    "* <span style=\"color:orange\">Kubernetes is very extensible, and developers love that.</span>\n",
    "There are a set of existing resources like Pods, Deployments, StatefulSets, Secrets, ConfigMaps, etc. However, users and developers can add more resources in the form of Custom Resource Definitions.\n",
    "* <span style=\"color:green\"> Infrastructure as YAML. </span>\n",
    "All the resources in Kubernetes, can simply be expressed in a YAML file.\n",
    "* <span style=\"color:blue\">Scalability. </span>\n",
    "Software can be deployed for the first time in a scale-out manner across Pods, and deployments can be scaled in or out at any time.\n",
    "* <span style=\"color:red\">Time savings. </span>\n",
    "Pause a deployment at any time and resume it later.\n",
    "* <span style=\"color:purple\">Version control. </span>\n",
    "Update deployed Pods using newer versions of application images and roll back to an earlier deployment.\n"
   ]
  },
  {
   "cell_type": "markdown",
   "metadata": {
    "slideshow": {
     "slide_type": "subslide"
    }
   },
   "source": [
    "## Why Kubernetes (k8s)?\n",
    " \n",
    "* **Horizontal autoscaling.** \n",
    "Kubernetes autoscalers automatically size a deployment’s number of Pods based on the usage of specified resources (within defined limits).\n",
    "\n",
    "* **Rolling updates.**\n",
    "Updates to a Kubernetes deployment are orchestrated in “rolling fashion,” across the deployment’s Pods. These rolling updates are orchestrated while working with optional predefined limits on the number of Pods that can be unavailable and the number of spare Pods that may exist temporarily.\n",
    "\n",
    "* **Canary deployments.**\n",
    "A useful pattern when deploying a new version of a deployment is to first test the new deployment in production, in parallel with the previous version, and scale up the new deployment while simultaneously scaling down the previous deployment.\n",
    "\n",
    "* **Security and Controls.**\n",
    "YAML is a great way to validate what and how things get deployed in Kubernetes. For example, one of the significant concerns when it comes to security is whether your workloads are running as a non-root user.\n",
    "\n",
    "*  <span style=\"color:purple\">**Another big aspect of Kubernetes popularity is its strong community.**</span>\n"
   ]
  },
  {
   "cell_type": "markdown",
   "metadata": {
    "slideshow": {
     "slide_type": "slide"
    }
   },
   "source": [
    "## Proposed Analysis Facility @ T2 Nebraska\n",
    "\n",
    "<img src=\"pics/coffea-casa.png\" width=\"700\" height=\"700\" />"
   ]
  },
  {
   "cell_type": "markdown",
   "metadata": {
    "slideshow": {
     "slide_type": "slide"
    }
   },
   "source": [
    "## Proposed Analysis Facility @ T2 Nebraska: challenges\n",
    "\n",
    "<img src=\"pics/coffea-casa-challenge.png\" width=\"700\" height=\"700\" />"
   ]
  },
  {
   "cell_type": "markdown",
   "metadata": {
    "slideshow": {
     "slide_type": "slide"
    }
   },
   "source": [
    "## Proposed Analysis Facility @ T2 Nebraska: configuration\n",
    "<img src=\"pics/coffea-casa1.png\" width=\"700\" height=\"700\" />"
   ]
  },
  {
   "cell_type": "markdown",
   "metadata": {
    "slideshow": {
     "slide_type": "slide"
    }
   },
   "source": [
    "## Proposed Analysis Facility @ T2 Nebraska: configuration\n",
    "<img src=\"pics/coffea-casa2.png\" width=\"700\" height=\"700\" />"
   ]
  },
  {
   "cell_type": "markdown",
   "metadata": {
    "slideshow": {
     "slide_type": "slide"
    }
   },
   "source": [
    "## Proposed Analysis Facility @ T2 Nebraska: configuration\n",
    "<img src=\"pics/coffea-casa3.png\" width=\"700\" height=\"700\" />"
   ]
  },
  {
   "cell_type": "markdown",
   "metadata": {
    "slideshow": {
     "slide_type": "slide"
    }
   },
   "source": [
    "## Coffea-casa: why you would love it?\n",
    "\n",
    "* <span style=\"color:blue\">No x509 </span>: authentification enabled via CILogin and authorization by *WLCG Bearear Tockens** (macaroons)\n",
    "* <span style=\"color:purple\">Security</span>: enabled TLS protocol over TCP sockets\n",
    "* <span style=\"color:green\"> No need to think about xrootd </span>: **XCache with new XRootD autorization plugin**\n",
    "* <span style=\"color:red\"> Access to \"grid-style\" analysis but from Python notebook!</span>\n",
    "\n"
   ]
  },
  {
   "cell_type": "markdown",
   "metadata": {
    "slideshow": {
     "slide_type": "slide"
    }
   },
   "source": [
    "## XCache\n",
    "\n",
    "\n",
    "* *Xcache is a Squid-like cache*, but it primarily uses the “xroot” protocol, with HTTP protocol being added on. \n",
    "* *XCache provides a multi-threaded file caching application that can asynchronously fetch and cache file segments or whole files*.\n",
    "* Its primary design use case is caching static scientific data files of any format, large or small.\n",
    "* *Xcache is built upon Xrootd* and is flexible to be customized for many usage scenarios, via configuration or plugins.\n"
   ]
  },
  {
   "cell_type": "markdown",
   "metadata": {
    "slideshow": {
     "slide_type": "slide"
    }
   },
   "source": [
    "## XRootd authorization plugin\n",
    "\n",
    "* Code: https://github.com/bbockelm/xrdcl-authz-plugin\n",
    "\n",
    "```console\n",
    "$ xrdcp -f root://xcache//store/data/Run2017B/SingleElectron/MINIAOD/31Mar2018-v1/60000/9E0F8458-EA37-E811-93F1-008CFAC919F0.root /dev/null                                      \n",
    "Looking for token in file /home/cse496/bbockelm/projects/xrdcl-authz-plugin/xcache_token\n",
    "[3.65GB/3.65GB][100%][==================================================][934.5MB/s]\n",
    "```\n"
   ]
  },
  {
   "cell_type": "markdown",
   "metadata": {
    "slideshow": {
     "slide_type": "slide"
    }
   },
   "source": [
    "## Coffea-casa secrets\n",
    "\n",
    "All secrets are available in the directory */etc/cmsaf-secrets* at container startup.\n",
    "\n",
    "* */etc/cmsaf-secrets/condor_token* is a condor IDTOKEN useful for submitting to T3.\n",
    "* */etc/cmsaf-secrets/ca.key* is a CA private key useful for Dask\n",
    "* */etc/cmsaf-secrets/ca.pem* is a CA public key useful for Dask\n",
    "* */etc/cmsaf-secrets/hostcert.pem* is a host certificate and private key useful for the Dask scheduler.\n",
    "* */etc/cmsaf-secrets/usercert.pem* is a user certificate and private key useful for the Dask workers."
   ]
  },
  {
   "cell_type": "markdown",
   "metadata": {
    "slideshow": {
     "slide_type": "slide"
    }
   },
   "source": [
    "## Coffea-casa building blocks\n",
    "\n",
    "* JupyterHub setup (Helm K8s charts): https://github.com/CoffeaTeam/jhub (except of specific secrets)\n",
    "* Docker images for Dask Scheduler and Worker: https://github.com/CoffeaTeam/coffea-casa\n",
    "  * https://hub.docker.com/r/coffeateam/coffea-casa\n",
    "  * https://hub.docker.com/r/coffeateam/coffea-casa-analysis\n",
    "* Docker image for JupyterHub (to get authentification macaroons in the launch environment)\n",
    "https://github.com/clundst/jhubDocker"
   ]
  },
  {
   "cell_type": "markdown",
   "metadata": {
    "slideshow": {
     "slide_type": "slide"
    }
   },
   "source": [
    "## When you will be able to use it?\n",
    "\n",
    "* Expected to be available soon for preliminary tests by CMS community.\n",
    "* Fully available on September 2021."
   ]
  },
  {
   "cell_type": "markdown",
   "metadata": {
    "slideshow": {
     "slide_type": "slide"
    }
   },
   "source": [
    "## Demo time\n",
    "\n",
    "... lets try to see how it works!\n",
    "\n",
    "\n",
    "  1. [Simple loop over events](adl1_tls.ipynb)\n",
    "  2. [More complex benchmark](adl8.ipynb)\n",
    "  3. [Using XCache](coffea_xcache.ipynb)\n"
   ]
  }
 ],
 "metadata": {
  "celltoolbar": "Slideshow",
  "kernelspec": {
   "display_name": "Python 3",
   "language": "python",
   "name": "python3"
  },
  "language_info": {
   "codemirror_mode": {
    "name": "ipython",
    "version": 3
   },
   "file_extension": ".py",
   "mimetype": "text/x-python",
   "name": "python",
   "nbconvert_exporter": "python",
   "pygments_lexer": "ipython3",
   "version": "3.8.3"
  }
 },
 "nbformat": 4,
 "nbformat_minor": 2
}
