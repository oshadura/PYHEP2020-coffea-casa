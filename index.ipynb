{
 "cells": [
  {
   "cell_type": "markdown",
   "metadata": {},
   "source": [
    "# An Introduction and demo on how to use a new prototype of U.S. CMS Analysis Facility -  \"coffea-casa\"\n",
    "\n",
    "These tutorials are also available as a series of runnable Jupyter notebooks available  to be executed on https://cmsaf-jh.unl.edu\n",
    "\n",
    "\n",
    "In these notebooks you will learn the details about new facility, its features and capabilities and how to use them. They are broken down into a few major sections:\n",
    "\n",
    "- **Introductory Topics, quick overviews of the major features**:\n",
    "    1. [Introduction](Introduction.ipynb)\n",
    "\n",
    "- **Short Coffea demos executed on facility**:\n",
    "    1. [Simple loop over events](adl1_tls.ipynb)\n",
    "    2. [More complex benchmark](adl8.ipynb)\n",
    "    3. [Using XCache](coffea_xcache.ipynb)\n",
    "\n",
    "These tutorials are covering the basics of the a design and leasons learned while deploying Coffea on K8s over HTCondor queue and well as available Coffea examples in a form of small benchmarks and how to use Coffea via Dask on University of Nebraska-Lincoln T2 facility.\n",
    "\n",
    "Please check:\n",
    "\n",
    "- <span style=\"color:purple\"> **See a full analysis deployed on coffea-casa**! It will be shown on Wednesday 15 July, in Mat's presentation: [**Columnar Analysis at Scale with Coffea (TUTORIAL)**](https://indico.cern.ch/event/882824/timetable/#33-columnar-analysis-at-scale)\n",
    "\n",
    "ATLANTIC TIME ZONE SESSION 3 - 15h00 CET, 06h00 PDT, 18h30 IST, 21h00 CST, 22h00 JST).\n"
   ]
  },
  {
   "cell_type": "code",
   "execution_count": null,
   "metadata": {},
   "outputs": [],
   "source": []
  }
 ],
 "metadata": {
  "kernelspec": {
   "display_name": "Python 3",
   "language": "python",
   "name": "python3"
  },
  "language_info": {
   "codemirror_mode": {
    "name": "ipython",
    "version": 3
   },
   "file_extension": ".py",
   "mimetype": "text/x-python",
   "name": "python",
   "nbconvert_exporter": "python",
   "pygments_lexer": "ipython3",
   "version": "3.7.6"
  }
 },
 "nbformat": 4,
 "nbformat_minor": 4
}
